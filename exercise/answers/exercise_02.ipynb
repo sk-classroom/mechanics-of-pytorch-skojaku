{
 "cells": [
  {
   "cell_type": "markdown",
   "metadata": {},
   "source": [
    "# Implementing a simple word2vec \n",
    "\n",
    "In this exercise, we will implement a word2vec by using PyTorch \n",
    "\n",
    "## Data\n",
    "\n",
    "We will use the Less Miserable by Victor Hugo to train word2vec. The data can be found under at `data/less-miserable.txt` or \n",
    "https://archive.org/stream/lesmiserables00135gut/lesms10.txt\n",
    "\n",
    "### Preprocessing \n"
   ]
  },
  {
   "cell_type": "code",
   "execution_count": 36,
   "metadata": {},
   "outputs": [
    {
     "name": "stderr",
     "output_type": "stream",
     "text": [
      "[nltk_data] Downloading package punkt to /home/skojaku/nltk_data...\n",
      "[nltk_data]   Package punkt is already up-to-date!\n"
     ]
    }
   ],
   "source": [
    "import nltk\n",
    "\n",
    "nltk.download(\"punkt\")\n",
    "\n",
    "# Load the data\n",
    "with open(\"../data/less-miserable.txt\", \"r\", encoding=\"utf-8\") as file:\n",
    "    text = file.read().lower()\n",
    "\n",
    "# Extract the main content\n",
    "# Start from VOLUME I. and end at The end of Project Gutenberg\n",
    "start = text.find(\"volume i.\")\n",
    "end = text.find(\"the end of project gutenberg\")\n",
    "text = text[start:end]"
   ]
  },
  {
   "cell_type": "code",
   "execution_count": 37,
   "metadata": {},
   "outputs": [],
   "source": [
    "# Tokenize the data\n",
    "tokenizer = nltk.data.load(\"tokenizers/punkt/english.pickle\")\n",
    "raw_sentences = tokenizer.tokenize(text)"
   ]
  },
  {
   "cell_type": "code",
   "execution_count": 66,
   "metadata": {},
   "outputs": [
    {
     "name": "stderr",
     "output_type": "stream",
     "text": [
      " 56%|█████▌    | 19961/35499 [00:00<00:00, 199590.20it/s]"
     ]
    },
    {
     "name": "stderr",
     "output_type": "stream",
     "text": [
      "100%|██████████| 35499/35499 [00:00<00:00, 202171.43it/s]\n"
     ]
    },
    {
     "name": "stdout",
     "output_type": "stream",
     "text": [
      "Number of sentences: 28832\n",
      "Average number of words: 17.91138318534961\n",
      "Example sentence: [['they', 'left', 'that', 'rag', 'where', 'it', 'hung', 'they', 'did', 'not', 'put', 'the', 'finishing', 'touch', 'to', 'it']]\n"
     ]
    }
   ],
   "source": [
    "import re\n",
    "from tqdm import tqdm\n",
    "import random\n",
    "\n",
    "# Clean the text\n",
    "sentences = []\n",
    "min_words = 5\n",
    "for sent in tqdm(raw_sentences):\n",
    "    sent = re.sub(r\"[^a-z\\s]\", \"\", sent)\n",
    "    sent = re.sub(r\"\\s+\", \" \", sent).strip()\n",
    "    words = sent.split()\n",
    "    if len(words) < min_words:\n",
    "        continue\n",
    "\n",
    "    sentences.append(words)\n",
    "\n",
    "# Remove infrequent words\n",
    "from collections import Counter\n",
    "\n",
    "min_count = 5\n",
    "\n",
    "word_counts = Counter()\n",
    "for sent in sentences:\n",
    "    word_counts.update(sent)\n",
    "\n",
    "filtered_sentences = []\n",
    "for sent in sentences:\n",
    "    filtered = [word for word in sent if word_counts[word] >= min_count]\n",
    "    if len(filtered) >= min_words:\n",
    "        filtered_sentences.append(filtered)\n",
    "\n",
    "# Print the number of sentences, average number of words, and print the random 3 sentences\n",
    "print(f\"Number of sentences: {len(filtered_sentences)}\")\n",
    "print(\n",
    "    f\"Average number of words: {sum(len(sent) for sent in filtered_sentences) / len(filtered_sentences)}\"\n",
    ")\n",
    "print(f\"Example sentence: {random.sample(filtered_sentences, 1)}\")"
   ]
  },
  {
   "cell_type": "code",
   "execution_count": 67,
   "metadata": {},
   "outputs": [],
   "source": [
    "# Convert the words to integers\n",
    "from collections import Counter\n",
    "\n",
    "word_counts = Counter(word for sent in filtered_sentences for word in sent)\n",
    "vocab = sorted(word_counts, key=word_counts.get, reverse=True)\n",
    "word_to_int = {word: ii for ii, word in enumerate(vocab)}\n",
    "int_to_word = {ii: word for word, ii in word_to_int.items()}\n",
    "sentences_int = [[word_to_int[word] for word in sent] for sent in filtered_sentences]"
   ]
  },
  {
   "cell_type": "markdown",
   "metadata": {},
   "source": [
    "## Model & Training \n"
   ]
  },
  {
   "cell_type": "markdown",
   "metadata": {},
   "source": [
    "Define the word2vec model using `torch.nn.Module` . \n",
    "\n",
    "![](https://lh3.googleusercontent.com/proxy/70-YFG_mmT5o_IjJtK3q2ADr0IAh5uLb2TSqllAWVQ1bTEGc5HUMOgOp0rH0RpCk3W2JEhz_L6yxugaI0eV2Xp08KkMBeCnyVtfSNI1xlX_MQnBSAedvQ6AK4dRDZ5A)\n",
    "\n",
    "Hint:\n",
    "1. Create a `Embedding` layer (e.g.,                                                                                                                                                                                                                                                                                                                                                                      `self.invec = torch.nn.Embedding(n_vocab, n_dim)`) of size (vocabrary size, # of embedding dimension) for the input layer. \n",
    "2. Create another `Embedding` layer of the same size for the output layer. \n",
    "2. The forward method should take a batch of input word IDs and return their word embedding. \n",
    "3. Initialize the weights of the embedding layers using `torch.nn.init.xavier_uniform_(invec.weight)`\n"
   ]
  },
  {
   "cell_type": "code",
   "execution_count": 68,
   "metadata": {},
   "outputs": [],
   "source": [
    "# TODO: Define the model\n",
    "import torch\n",
    "\n",
    "\n",
    "class Word2Vec(torch.nn.Module):\n",
    "    def __init__(self, n_vocab, n_dim):\n",
    "        super().__init__()\n",
    "        self.invec = torch.nn.Embedding(n_vocab, n_dim)\n",
    "        self.outvec = torch.nn.Embedding(n_vocab, n_dim)\n",
    "\n",
    "        torch.nn.init.xavier_uniform_(self.invec.weight)\n",
    "        torch.nn.init.xavier_uniform_(self.outvec.weight)\n",
    "\n",
    "    def forward(self, input_word_ids):\n",
    "        return self.invec(input_word_ids)\n",
    "\n",
    "\n",
    "model = Word2Vec(len(vocab), 32)"
   ]
  },
  {
   "cell_type": "markdown",
   "metadata": {},
   "source": [
    "Define the dataset and data loader for the word2vec model. \n",
    "* We will use the negative sampling. \n",
    "* With negative sampling, we will sample two words within distance $L$ in a sentence as a positive example. \n",
    "* We then generate a negative example by replacing a word with a random word sampled from the vocaburary with a probability proportional to the frequency of the words in the entire corpus. \n",
    "\n",
    "Implementation:\n",
    "* We will implment the negative sampling by creating a *custom dataset* that generates the word-context pairs and negative samples. \n",
    "* A custom dataset in PyTorch is a class that inherits from the Dataset class and implements the __len__ and __getitem__ methods.\n",
    "* The __len__ method returns the total number of items in the dataset, and the __getitem__ method returns a specific data item from the dataset.\n"
   ]
  },
  {
   "cell_type": "code",
   "execution_count": 88,
   "metadata": {},
   "outputs": [],
   "source": [
    "import torch\n",
    "from torch.utils.data import Dataset, DataLoader\n",
    "import numpy as np\n",
    "\n",
    "\n",
    "# This class defines a custom dataset for negative sampling.\n",
    "class NegativeSamplingDataset(Dataset):\n",
    "    # Initialize the dataset with sentences converted to integers, a mapping of words to integers, and the window size for context sampling.\n",
    "    def __init__(self, sentences_int, window_size):\n",
    "        super().__init__()\n",
    "        # Flatten the list of sentence word IDs into a single list to count word frequencies\n",
    "        all_word_ids = sum(sentences_int, [])\n",
    "\n",
    "        # Sample word pairs\n",
    "        center_word_ids = []  # List to store the center words\n",
    "        context_word_ids = []  # List to store the context words\n",
    "        for _, sent in enumerate(sentences_int):\n",
    "            for i in range(len(sent)):\n",
    "                for j in range(\n",
    "                    max(0, i - window_size),\n",
    "                    min(len(sent), i + window_size + 1),\n",
    "                ):\n",
    "                    if i == j:\n",
    "                        continue  # Skip the center word itself\n",
    "                    center_word_ids.append(sent[i])\n",
    "                    context_word_ids.append(sent[j])\n",
    "\n",
    "        self.center_word_ids = np.array(center_word_ids)\n",
    "        self.context_words_ids = np.array(context_word_ids)\n",
    "        self.n_pairs = len(self.center_word_ids)\n",
    "\n",
    "        # Sample the negative sampling\n",
    "        # Count the frequencies of each unique word ID\n",
    "        word_frequencies = np.bincount(all_word_ids)\n",
    "        self.n_words = len(word_frequencies)  # The number of unique words\n",
    "\n",
    "        # Compute the probability of sampling each word for negative sampling based on their frequencies\n",
    "        self.p_random = word_frequencies / word_frequencies.sum()\n",
    "\n",
    "        self.random_word_ids = np.random.choice(\n",
    "            self.n_words, size=len(center_word_ids), p=self.p_random\n",
    "        )\n",
    "\n",
    "    # Return the total number of word-context pairs\n",
    "    def __len__(self):\n",
    "        return self.n_pairs\n",
    "\n",
    "    # Return a specific item (word-context pair and a negative sample) from the dataset\n",
    "    def __getitem__(self, idx):\n",
    "        return (\n",
    "            self.center_word_ids[idx],\n",
    "            self.context_words_ids[idx],\n",
    "            self.random_word_ids[idx],\n",
    "        )\n",
    "\n",
    "\n",
    "dataset = NegativeSamplingDataset(sentences_int, window_size=3)\n",
    "dataloader = DataLoader(dataset, batch_size=2048, shuffle=False)"
   ]
  },
  {
   "cell_type": "markdown",
   "metadata": {},
   "source": [
    "Define the loss function by using `torch.nn.BCELoss` . [link](https://pytorch.org/docs/stable/generated/torch.nn.BCELoss.html). \n"
   ]
  },
  {
   "cell_type": "code",
   "execution_count": 89,
   "metadata": {},
   "outputs": [],
   "source": [
    "# TODO: Define the loss:\n",
    "loss_function = torch.nn.BCEWithLogitsLoss()"
   ]
  },
  {
   "cell_type": "markdown",
   "metadata": {},
   "source": [
    "Let's use the Adam optimizer. [link](https://pytorch.org/docs/stable/generated/torch.optim.Adam.html#torch.optim.Adam)\n"
   ]
  },
  {
   "cell_type": "code",
   "execution_count": 90,
   "metadata": {},
   "outputs": [],
   "source": [
    "# TODO: Optimizer\n",
    "optimizer = torch.optim.Adam(model.parameters(), lr=5e-3)"
   ]
  },
  {
   "cell_type": "markdown",
   "metadata": {},
   "source": [
    "# Let's train the word2vec model. \n",
    "1. Loop over the data 2 times. \n"
   ]
  },
  {
   "cell_type": "code",
   "execution_count": 94,
   "metadata": {},
   "outputs": [
    {
     "name": "stderr",
     "output_type": "stream",
     "text": [
      "Epoch: 10, Loss: 0.5874: 100%|██████████| 13450/13450 [00:47<00:00, 306.21it/s]"
     ]
    }
   ],
   "source": [
    "# TODO:  Training loop with DataLoader. Loop over the data 2 times, and print the average loss per epoch.\n",
    "n_epochs = 10\n",
    "loss_list = []\n",
    "\n",
    "logsigmoid = torch.nn.LogSigmoid()\n",
    "\n",
    "pbar = tqdm(total=len(dataloader) * n_epochs)\n",
    "for epoch in range(n_epochs):\n",
    "    total_loss = 0.0\n",
    "    n_train = 0\n",
    "    for word_ids, context_ids, negative_ids in dataloader:\n",
    "\n",
    "        # Set up a binary classfication task to train the embeddings.\n",
    "        center_word_ids = torch.cat(\n",
    "            [word_ids, word_ids]\n",
    "        )  # word_ids for the center word\n",
    "        context_word_ids = torch.cat(\n",
    "            [context_ids, negative_ids]\n",
    "        )  # word ids for the context word\n",
    "        labels = torch.cat(\n",
    "            [\n",
    "                torch.ones(len(word_ids), dtype=torch.float32),\n",
    "                torch.zeros(len(word_ids), dtype=torch.float32),\n",
    "            ]\n",
    "        )  # classification label. 1 for positive samples, 0 for negative samples\n",
    "\n",
    "        # In this binary classification task, we want to predict the label (1 or 0) based on the dot similarity of the embeddings for the center word and the context word.\n",
    "\n",
    "        # TODO: Zero the gradients\n",
    "        optimizer.zero_grad()\n",
    "\n",
    "        # TODO: Get the embeddings\n",
    "        ivec = model.invec(center_word_ids)\n",
    "        ovec = model.outvec(context_word_ids)\n",
    "\n",
    "        # TODO: Compute the dot similarity (i.e., the dot similarity of the embeddings for word_ids and context_ids\n",
    "        scores = torch.sum(ivec * ovec, dim=1)\n",
    "        # prediction = torch.sigmoid(scores)\n",
    "\n",
    "        # Compute the cross entropy loss,\n",
    "        loss = loss_function(scores, labels)\n",
    "        # loss = loss_function(prediction, labels)\n",
    "        # loss = -logsigmoid((ivec * ovec).sum(dim=1) * (2 * labels - 1)).mean()\n",
    "\n",
    "        loss.backward()\n",
    "        optimizer.step()\n",
    "\n",
    "        with torch.no_grad():\n",
    "            total_loss += loss.item()\n",
    "            n_train += 1\n",
    "            pbar.update(1)\n",
    "    total_loss /= n_train\n",
    "    loss_list.append(total_loss)\n",
    "    pbar.set_description(f\"Epoch: {epoch+1}, Loss: {total_loss:.4f}\")"
   ]
  },
  {
   "cell_type": "markdown",
   "metadata": {},
   "source": [
    "If the training is successful, the loss should decrease. Let's see the loss plot. \n"
   ]
  },
  {
   "cell_type": "code",
   "execution_count": 99,
   "metadata": {},
   "outputs": [
    {
     "data": {
      "text/plain": [
       "Text(0, 0.5, 'Loss')"
      ]
     },
     "execution_count": 99,
     "metadata": {},
     "output_type": "execute_result"
    },
    {
     "data": {
      "image/png": "[encoded data removed]",
      "text/plain": [
       "<Figure size 640x480 with 1 Axes>"
      ]
     },
     "metadata": {},
     "output_type": "display_data"
    }
   ],
   "source": [
    "# plot loss\n",
    "import matplotlib.pyplot as plt\n",
    "\n",
    "plt.plot(loss_list)\n",
    "plt.xlabel(\"Epoch\")\n",
    "plt.ylabel(\"Loss\")"
   ]
  },
  {
   "cell_type": "code",
   "execution_count": 116,
   "metadata": {},
   "outputs": [],
   "source": [
    "emb = model(torch.arange(len(vocab))).detach().numpy()\n",
    "\n",
    "# Normalize the embeddings\n",
    "emb = np.einsum(\"ij,i->ij\", emb, 1 / np.linalg.norm(emb, axis=1))"
   ]
  },
  {
   "cell_type": "markdown",
   "metadata": {},
   "source": [
    "### Let's find the most similar words to \"cosette\"\n"
   ]
  },
  {
   "cell_type": "code",
   "execution_count": 135,
   "metadata": {},
   "outputs": [
    {
     "name": "stdout",
     "output_type": "stream",
     "text": [
      "jean (Similarity: 1.00)\n",
      "valjean (Similarity: 0.95)\n",
      "marius (Similarity: 0.74)\n",
      "valjeans (Similarity: 0.69)\n",
      "fauchelevent (Similarity: 0.67)\n",
      "maam (Similarity: 0.65)\n",
      "cosette (Similarity: 0.61)\n",
      "javert (Similarity: 0.60)\n",
      "gillenormand (Similarity: 0.60)\n",
      "madeleine (Similarity: 0.58)\n",
      "grantaire (Similarity: 0.57)\n",
      "latter (Similarity: 0.57)\n",
      "favourite (Similarity: 0.56)\n",
      "monsieur (Similarity: 0.56)\n",
      "he (Similarity: 0.56)\n"
     ]
    }
   ],
   "source": [
    "# Find the vector for Cosette\n",
    "query = emb[word_to_int[\"cosette\"]]\n",
    "\n",
    "# Similarity score\n",
    "scores = query @ emb.T\n",
    "\n",
    "# Find the most similar words\n",
    "for i in np.argsort(scores)[::-1][:15]:\n",
    "    print(f\"{int_to_word[i]} (Similarity: {scores[i]:.2f})\")"
   ]
  },
  {
   "cell_type": "markdown",
   "metadata": {},
   "source": [
    "### Let's find the most similar words to \"jean\"\n"
   ]
  },
  {
   "cell_type": "code",
   "execution_count": 136,
   "metadata": {},
   "outputs": [
    {
     "name": "stdout",
     "output_type": "stream",
     "text": [
      "jean (Similarity: 1.00)\n",
      "valjean (Similarity: 0.95)\n",
      "marius (Similarity: 0.74)\n",
      "valjeans (Similarity: 0.69)\n",
      "fauchelevent (Similarity: 0.67)\n",
      "maam (Similarity: 0.65)\n",
      "cosette (Similarity: 0.61)\n",
      "javert (Similarity: 0.60)\n",
      "gillenormand (Similarity: 0.60)\n",
      "madeleine (Similarity: 0.58)\n",
      "grantaire (Similarity: 0.57)\n",
      "latter (Similarity: 0.57)\n",
      "favourite (Similarity: 0.56)\n",
      "monsieur (Similarity: 0.56)\n",
      "he (Similarity: 0.56)\n"
     ]
    }
   ],
   "source": [
    "# Find the vector for Cosette\n",
    "query = emb[word_to_int[\"jean\"]]\n",
    "\n",
    "# Similarity score\n",
    "scores = query @ emb.T\n",
    "\n",
    "# Find the most similar words\n",
    "for i in np.argsort(scores)[::-1][:15]:\n",
    "    print(f\"{int_to_word[i]} (Similarity: {scores[i]:.2f})\")"
   ]
  },
  {
   "cell_type": "markdown",
   "metadata": {},
   "source": [
    "# Let's visualize the embeddings of the less miserable characters. \n"
   ]
  },
  {
   "cell_type": "code",
   "execution_count": 148,
   "metadata": {},
   "outputs": [],
   "source": [
    "les_miserables_characters = [\n",
    "    \"myriel\",\n",
    "    \"napoleon\",\n",
    "    \"mllebaptistine\",\n",
    "    \"mmemagloire\",\n",
    "    \"countessdelo\",\n",
    "    \"geborand\",\n",
    "    \"champtercier\",\n",
    "    \"cravatte\",\n",
    "    \"labarre\",\n",
    "    \"jean\",\n",
    "    \"marguerite\",\n",
    "    \"mmeder\",\n",
    "    \"isabeau\",\n",
    "    \"gervais\",\n",
    "    \"tholomyes\",\n",
    "    \"listolier\",\n",
    "    \"fameuil\",\n",
    "    \"blacheville\",\n",
    "    \"favourite\",\n",
    "    \"dahlia\",\n",
    "    \"zephine\",\n",
    "    \"fantine\",\n",
    "    \"mmethenardier\",\n",
    "    \"thenardier\",\n",
    "    \"cosette\",\n",
    "    \"javert\",\n",
    "    \"fauchelevent\",\n",
    "    \"bamatabois\",\n",
    "    \"perpetue\",\n",
    "    \"simplice\",\n",
    "    \"scaufflaire\",\n",
    "    \"judge\",\n",
    "    \"champmathieu\",\n",
    "    \"brevet\",\n",
    "    \"chenildieu\",\n",
    "    \"cochepaille\",\n",
    "    \"pontmercy\",\n",
    "    \"boulatruelle\",\n",
    "    \"eponine\",\n",
    "    \"anzelma\",\n",
    "    \"motherinnocent\",\n",
    "    \"gribier\",\n",
    "    \"jondrette\",\n",
    "    \"mmeburgon\",\n",
    "    \"gavroche\",\n",
    "    \"gillenormand\",\n",
    "    \"magnon\",\n",
    "    \"mllegillenormand\",\n",
    "    \"mmepontmercy\",\n",
    "    \"mllevaubois\",\n",
    "    \"ltgillenormand\",\n",
    "    \"marius\",\n",
    "    \"baronesst\",\n",
    "    \"mabeuf\",\n",
    "    \"enjolras\",\n",
    "    \"combeferre\",\n",
    "    \"prouvaire\",\n",
    "    \"feuilly\",\n",
    "    \"courfeyrac\",\n",
    "    \"bahorel\",\n",
    "    \"bossuet\",\n",
    "    \"joly\",\n",
    "    \"grantaire\",\n",
    "    \"motherplutarch\",\n",
    "    \"gueulemer\",\n",
    "    \"babet\",\n",
    "    \"claquesous\",\n",
    "    \"montparnasse\",\n",
    "    \"toussaint\",\n",
    "    \"brujon\",\n",
    "    \"mmehucheloup\",\n",
    "]\n",
    "# Filter out characters that are not in the vocabulary\n",
    "vocab_set = set(vocab)\n",
    "characters = [c for c in les_miserables_characters if c in vocab_set]\n",
    "emb_characters = emb[np.array([word_to_int[c] for c in characters])]"
   ]
  },
  {
   "cell_type": "code",
   "execution_count": 155,
   "metadata": {},
   "outputs": [
    {
     "name": "stderr",
     "output_type": "stream",
     "text": [
      "/home/skojaku/miniforge3/envs/applsoftcomp/lib/python3.11/site-packages/umap/umap_.py:1943: UserWarning: n_jobs value -1 overridden to 1 by setting random_state. Use no seed for parallelism.\n",
      "  warn(f\"n_jobs value {self.n_jobs} overridden to 1 by setting random_state. Use no seed for parallelism.\")\n"
     ]
    },
    {
     "data": {
      "text/plain": [
       "(2.4763651728630065, 6.546776449680328, -1.9734178900718689, 4.467538726329804)"
      ]
     },
     "execution_count": 155,
     "metadata": {},
     "output_type": "execute_result"
    },
    {
     "data": {
      "image/png": "[encoded data removed]",
      "text/plain": [
       "<Figure size 800x800 with 1 Axes>"
      ]
     },
     "metadata": {},
     "output_type": "display_data"
    }
   ],
   "source": [
    "import umap\n",
    "import seaborn as sns\n",
    "import matplotlib.pyplot as plt\n",
    "\n",
    "\n",
    "# Reduce dimensionality\n",
    "reducer = umap.UMAP(n_components=2, random_state=42, n_neighbors=5, metric=\"cosine\")\n",
    "xy = reducer.fit_transform(emb_characters)\n",
    "\n",
    "\n",
    "# Plot the characters\n",
    "character_count = np.array([word_counts.get(c) for c in characters])\n",
    "sns.set_style(\"white\")\n",
    "sns.set(font_scale=1)\n",
    "sns.set_style(\"ticks\")\n",
    "plt.figure(figsize=(8, 8))\n",
    "\n",
    "character_size = character_count\n",
    "sns.scatterplot(x=xy[:, 0], y=xy[:, 1], size=character_size, sizes=(30, 300))\n",
    "for i, c in enumerate(characters):\n",
    "    plt.annotate(\n",
    "        c,\n",
    "        (xy[i, 0], xy[i, 1]),\n",
    "        textcoords=\"offset points\",\n",
    "        xytext=(0, 10),\n",
    "        ha=\"center\",\n",
    "        fontsize=8,\n",
    "    )\n",
    "plt.legend().remove()\n",
    "plt.axis(\"off\")"
   ]
  }
 ],
 "metadata": {
  "kernelspec": {
   "display_name": "applsoftcomp",
   "language": "python",
   "name": "python3"
  },
  "language_info": {
   "codemirror_mode": {
    "name": "ipython",
    "version": 3
   },
   "file_extension": ".py",
   "mimetype": "text/x-python",
   "name": "python",
   "nbconvert_exporter": "python",
   "pygments_lexer": "ipython3",
   "version": "3.11.7"
  }
 },
 "nbformat": 4,
 "nbformat_minor": 2
}
